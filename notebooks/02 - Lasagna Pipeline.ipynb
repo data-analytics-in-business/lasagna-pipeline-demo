{
 "cells": [
  {
   "cell_type": "markdown",
   "id": "8d706f32",
   "metadata": {},
   "source": [
    "# Introduction\n",
    "In this notebook, we are going to use some of the things we learned in previous notebooks, but develop them in a more robust and re-useable way by introducing the concept of \"pipelines\" (just think of \"data in\" and \"predictions out\"). \n",
    "\n",
    "First, let's import all the packages we are going to need, and our data."
   ]
  },
  {
   "cell_type": "code",
   "execution_count": null,
   "id": "3ecab0d7",
   "metadata": {},
   "outputs": [],
   "source": [
    "import pandas as pd\n",
    "import matplotlib.pyplot as plt\n",
    "from sklearn.pipeline import Pipeline\n",
    "from sklearn.compose import ColumnTransformer\n",
    "from sklearn.preprocessing import MinMaxScaler\n",
    "from sklearn.preprocessing import OneHotEncoder\n",
    "from sklearn.linear_model import LogisticRegression\n",
    "from sklearn.metrics import ConfusionMatrixDisplay\n",
    "from sklearn.metrics import accuracy_score, precision_score, recall_score, f1_score\n",
    "URL = 'https://github.com/data-analytics-in-business/lasagna-pipeline-demo/raw/main/data/sample_lasagna.csv'\n",
    "df = pd.read_csv(URL)\n",
    "df.head()"
   ]
  },
  {
   "cell_type": "markdown",
   "id": "3791cd58",
   "metadata": {},
   "source": [
    "# Pipeline\n",
    "Now let's re-use some of the code from the previous notebook, but organise our preprocessing into a `Pipeline`. The `ColumnTransformer` will split the numeric and catergorical columns for us, pass them to the respective preprocessing transformers (i.e., instances of `MinMaxScaler` and `OneHotEncoder`), and then combine them again into a final input matrix.\n",
    "\n",
    "The `Pipeline` then combines the `preprocesser` with a `LogisticRegression` classifier, to create a *classification pipeline*."
   ]
  },
  {
   "cell_type": "code",
   "execution_count": null,
   "id": "a39c54c1",
   "metadata": {},
   "outputs": [],
   "source": [
    "numeric_features = [\"Age\", \"Weight\",\"Income\",\"Car Value\",\"CC Debt\",\"Mall Trips\"]\n",
    "categorical_features = [\"Pay Type\",\"Gender\",\"Live Alone\",\"Dwell Type\",\"Nbhd\"]\n",
    "\n",
    "preprocessor = ColumnTransformer(\n",
    "    transformers=[\n",
    "        (\"num\", MinMaxScaler(), numeric_features),\n",
    "        (\"cat\", OneHotEncoder(drop='first', handle_unknown=\"ignore\", sparse=False), categorical_features),\n",
    "    ],\n",
    ")\n",
    "\n",
    "clf_pipeline = Pipeline([\n",
    "    ('preprocessor', preprocessor),\n",
    "    ('classifier', LogisticRegression())\n",
    "])\n"
   ]
  },
  {
   "cell_type": "markdown",
   "id": "c0174cdf",
   "metadata": {},
   "source": [
    "# Predictions\n",
    "Now we have setup our classification pipeline we can train (`fit`) on some data and use it to generate some predictions.\n",
    "\n",
    "Run the code below to train our classification pipeline and to add some new columns to our input matrix $X$ showing the true values of our *target* variable (`Have Tried`) and the predictions resulting from our classification pipeline."
   ]
  },
  {
   "cell_type": "code",
   "execution_count": null,
   "id": "aeecaccd",
   "metadata": {},
   "outputs": [],
   "source": [
    "y = df['Have Tried']\n",
    "X = df.drop(columns=['Person','Have Tried'])\n",
    "clf_pipeline.fit(X,y)\n",
    "\n",
    "X['y_true'] = y\n",
    "X['y_pred'] = clf_pipeline.predict(X)\n",
    "X.head(30)"
   ]
  },
  {
   "cell_type": "markdown",
   "id": "b427e2aa",
   "metadata": {},
   "source": [
    "# Confusion (Training)\n",
    "We can see `y_true` and `y_pred` often match, but not always. Let's create a *confusion matrix* to see a summary of the classification errors of our classification pipeline on our *training data* (i.e., the data we used to train the pipeline."
   ]
  },
  {
   "cell_type": "code",
   "execution_count": null,
   "id": "1209fec3",
   "metadata": {},
   "outputs": [],
   "source": [
    "ConfusionMatrixDisplay.from_predictions(y, clf_pipeline.predict(X))\n",
    "plt.show()"
   ]
  },
  {
   "cell_type": "markdown",
   "id": "dc31c07b",
   "metadata": {},
   "source": [
    "# Performance (Training)\n",
    "Based on the values in the confusion matrix, we can calculate a variety of performance metrics using the `sklearn.metrics` package.\n",
    "\n",
    "Run the code below to see how our classification pipeline performs on our <ins>training</ins> data."
   ]
  },
  {
   "cell_type": "code",
   "execution_count": null,
   "id": "5449953f",
   "metadata": {},
   "outputs": [],
   "source": [
    "y_true = y.values\n",
    "y_pred = clf_pipeline.predict(X)\n",
    "\n",
    "A = accuracy_score(y_true, y_pred)\n",
    "print(f'Accuracy = (TP + TN) /(TP + FP + FN + TN) = {A:.4f}')\n",
    "\n",
    "P = precision_score(y_true, y_pred, pos_label='Yes')\n",
    "print(f'Precision = TP / (TP + FP) = {P:.4f}')\n",
    "\n",
    "R = recall_score(y_true, y_pred, pos_label='Yes')\n",
    "print(f'Recall = TP / (TP + FN) = {R:.4f}')\n",
    "\n",
    "F1 = f1_score(y_true, y_pred, pos_label='Yes')\n",
    "print(f'F1 Score = 2 * (P * R) / (P + R) = {F1:.4f}')"
   ]
  },
  {
   "cell_type": "markdown",
   "id": "64528c69",
   "metadata": {},
   "source": [
    "# Exercise\n",
    "Create a new classification pipeline using an input matrix $X$ with only columns `Age`, `Weight`, `Income`, `Pay Type`, and `Gender`; using a `StandardScaler` to process the numeric variables; and using a `DecisionTreeClassifier` as the classification \"head\" of the classification pipeline. Then train the classification pipeline on the training data; generate predictions for the training data; and calculate *accuracy*, *precision*, *recall*, and *F1* scores for the classifcation pipeline on the training data.\n",
    "\n",
    "**Question**: What do you notice about the performance of this new classification pipeline?\n",
    "\n",
    "Below, there is some code to get you started and steps in the comments to follow."
   ]
  },
  {
   "cell_type": "code",
   "execution_count": null,
   "id": "8140c1e1",
   "metadata": {},
   "outputs": [],
   "source": [
    "from sklearn.preprocessing import StandardScaler\n",
    "from sklearn.tree import DecisionTreeClassifier\n",
    "\n",
    "y = df['Have Tried']\n",
    "X = df[['Age', 'Weight', 'Income', 'Pay Type', 'Gender']]\n",
    "\n",
    "# (SOLUTION)\n",
    "numeric_features = [\"Age\", \"Weight\",\"Income\"]\n",
    "categorical_features = [\"Pay Type\",\"Gender\"]\n",
    "\n",
    "preprocessor = ColumnTransformer(\n",
    "    transformers=[\n",
    "        (\"num\", StandardScaler(), numeric_features),\n",
    "        (\"cat\", OneHotEncoder(drop='first', handle_unknown=\"ignore\", sparse=False), categorical_features),\n",
    "    ],\n",
    ")\n",
    "\n",
    "clf_pipeline = Pipeline([\n",
    "    ('preprocessor', preprocessor),\n",
    "    ('classifier', DecisionTreeClassifier())\n",
    "])\n",
    "\n",
    "clf_pipeline.fit(X,y)\n",
    "\n",
    "y_true = y.values\n",
    "y_pred = clf_pipeline.predict(X)\n",
    "\n",
    "A = accuracy_score(y_true, y_pred)\n",
    "print(f'Accuracy = (TP + TN) /(TP + FP + FN + TN) = {A:.4f}')\n",
    "\n",
    "P = precision_score(y_true, y_pred, pos_label='Yes')\n",
    "print(f'Precision = TP / (TP + FP) = {P:.4f}')\n",
    "\n",
    "R = recall_score(y_true, y_pred, pos_label='Yes')\n",
    "print(f'Recall = TP / (TP + FN) = {R:.4f}')\n",
    "\n",
    "F1 = f1_score(y_true, y_pred, pos_label='Yes')\n",
    "print(f'F1 Score = 2 * (P * R) / (P + R) = {F1:.4f}')\n"
   ]
  },
  {
   "cell_type": "markdown",
   "id": "e0b2769f",
   "metadata": {},
   "source": [
    "# Bonus Exercise\n",
    "Experiment with the code above to identify which of the changes you made to the pipeline was the reason for the biggest change in scores."
   ]
  }
 ],
 "metadata": {
  "kernelspec": {
   "display_name": "Python 3 (ipykernel)",
   "language": "python",
   "name": "python3"
  },
  "language_info": {
   "codemirror_mode": {
    "name": "ipython",
    "version": 3
   },
   "file_extension": ".py",
   "mimetype": "text/x-python",
   "name": "python",
   "nbconvert_exporter": "python",
   "pygments_lexer": "ipython3",
   "version": "3.7.9"
  }
 },
 "nbformat": 4,
 "nbformat_minor": 5
}
